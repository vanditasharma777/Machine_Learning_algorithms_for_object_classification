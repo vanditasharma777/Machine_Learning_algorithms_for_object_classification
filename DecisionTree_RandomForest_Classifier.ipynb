{
  "nbformat": 4,
  "nbformat_minor": 0,
  "metadata": {
    "colab": {
      "name": "DecisionTree_RandomForest_Classifier.ipynb",
      "provenance": [],
      "authorship_tag": "ABX9TyP8kCxNFQVC3LsplUx5WDMP",
      "include_colab_link": true
    },
    "kernelspec": {
      "name": "python3",
      "display_name": "Python 3"
    }
  },
  "cells": [
    {
      "cell_type": "markdown",
      "metadata": {
        "id": "view-in-github",
        "colab_type": "text"
      },
      "source": [
        "<a href=\"https://colab.research.google.com/github/vanditasharma777/Machine_Learning_algorithms_for_object_classification/blob/master/DecisionTree_RandomForest_Classifier.ipynb\" target=\"_parent\"><img src=\"https://colab.research.google.com/assets/colab-badge.svg\" alt=\"Open In Colab\"/></a>"
      ]
    },
    {
      "cell_type": "code",
      "metadata": {
        "id": "uJGaxCnrUYp1",
        "colab_type": "code",
        "colab": {}
      },
      "source": [
        "#import necessary packages\n",
        "import pandas as pd\n",
        "from tensorflow.keras.datasets import cifar10\n",
        "from tensorflow.keras.datasets import mnist\n",
        "from sklearn.metrics import classification_report, confusion_matrix,accuracy_score\n",
        "from sklearn.ensemble import RandomForestClassifier\n",
        "from sklearn.tree import DecisionTreeClassifier "
      ],
      "execution_count": null,
      "outputs": []
    },
    {
      "cell_type": "code",
      "metadata": {
        "id": "rdQ-XTqBUZ3e",
        "colab_type": "code",
        "colab": {
          "base_uri": "https://localhost:8080/",
          "height": 68
        },
        "outputId": "effac7fc-599c-46e8-ec82-786a8a0a9a39"
      },
      "source": [
        "#provide dataset\n",
        "(X_train, Y_train), (X_test, Y_test) = cifar10.load_data()\n",
        "print('x_train shape:', X_train.shape)\n",
        "print(X_train.shape[0], 'train samples')\n",
        "print(X_test.shape[0], 'test samples')"
      ],
      "execution_count": null,
      "outputs": [
        {
          "output_type": "stream",
          "text": [
            "x_train shape: (50000, 32, 32, 3)\n",
            "50000 train samples\n",
            "10000 test samples\n"
          ],
          "name": "stdout"
        }
      ]
    },
    {
      "cell_type": "code",
      "metadata": {
        "id": "nsyRcB85UeyG",
        "colab_type": "code",
        "colab": {}
      },
      "source": [
        "X_train = X_train.astype('float32')\n",
        "X_test = X_test.astype('float32')\n",
        "X_train = X_train / 255.0\n",
        "X_test = X_test / 255.0"
      ],
      "execution_count": null,
      "outputs": []
    },
    {
      "cell_type": "code",
      "metadata": {
        "id": "xip4NokbUjV-",
        "colab_type": "code",
        "colab": {}
      },
      "source": [
        "X_train = X_train.flatten().reshape(X_train.shape[0], X_train.shape[1]*X_train.shape[2]*X_train.shape[3])\n",
        "X_test = X_test.flatten().reshape(X_test.shape[0],X_test.shape[1]*X_test.shape[2]*X_test.shape[3])"
      ],
      "execution_count": null,
      "outputs": []
    },
    {
      "cell_type": "code",
      "metadata": {
        "id": "f6KNyXmY0hLh",
        "colab_type": "code",
        "colab": {
          "base_uri": "https://localhost:8080/",
          "height": 741
        },
        "outputId": "71dd4fc4-208c-4941-ac86-1b9b37936401"
      },
      "source": [
        "rtc = RandomForestClassifier()\n",
        "print(\"Train model\")\n",
        "rtc.fit(X_train, Y_train.ravel())\n",
        "print(\"Compute predictions\")\n",
        "predictc = rtc.predict(X_test)\n",
        "#Evaluation\n",
        "print(\"Confusion matrix\")\n",
        "print(confusion_matrix(predictc,Y_test.ravel()))\n",
        "print(\"Classification report\")\n",
        "print(classification_report(predictc,Y_test.ravel()))"
      ],
      "execution_count": null,
      "outputs": [
        {
          "output_type": "stream",
          "text": [
            "Train model\n",
            "Compute predictions\n",
            "Confusion matrix\n",
            "[[566  34  99  52  52  37   8  47  85  51]\n",
            " [ 37 561  33  44  21  26  37  50  85 150]\n",
            " [ 48  17 339  77 128  92  78  49  14  18]\n",
            " [ 18  40  70 289  58 161  81  65  29  33]\n",
            " [ 28  19 149  66 398  62 107  97  29  16]\n",
            " [ 26  27  65 168  42 388  56  82  34  22]\n",
            " [ 26  40 115 143 152  88 552  51  18  26]\n",
            " [ 30  36  74  67  99  86  32 448  18  37]\n",
            " [165  56  30  24  27  24  10  20 610  80]\n",
            " [ 56 170  26  70  23  36  39  91  78 567]]\n",
            "Classification report\n",
            "              precision    recall  f1-score   support\n",
            "\n",
            "           0       0.57      0.55      0.56      1031\n",
            "           1       0.56      0.54      0.55      1044\n",
            "           2       0.34      0.39      0.36       860\n",
            "           3       0.29      0.34      0.31       844\n",
            "           4       0.40      0.41      0.40       971\n",
            "           5       0.39      0.43      0.41       910\n",
            "           6       0.55      0.46      0.50      1211\n",
            "           7       0.45      0.48      0.46       927\n",
            "           8       0.61      0.58      0.60      1046\n",
            "           9       0.57      0.49      0.53      1156\n",
            "\n",
            "    accuracy                           0.47     10000\n",
            "   macro avg       0.47      0.47      0.47     10000\n",
            "weighted avg       0.48      0.47      0.48     10000\n",
            "\n",
            "Accuracy: \n"
          ],
          "name": "stdout"
        },
        {
          "output_type": "error",
          "ename": "NameError",
          "evalue": "ignored",
          "traceback": [
            "\u001b[0;31m---------------------------------------------------------------------------\u001b[0m",
            "\u001b[0;31mNameError\u001b[0m                                 Traceback (most recent call last)",
            "\u001b[0;32m<ipython-input-6-8479a9f95658>\u001b[0m in \u001b[0;36m<module>\u001b[0;34m()\u001b[0m\n\u001b[1;32m     14\u001b[0m \u001b[0mprint\u001b[0m\u001b[0;34m(\u001b[0m\u001b[0mclassification_report\u001b[0m\u001b[0;34m(\u001b[0m\u001b[0mpredictc\u001b[0m\u001b[0;34m,\u001b[0m\u001b[0mY_test\u001b[0m\u001b[0;34m.\u001b[0m\u001b[0mravel\u001b[0m\u001b[0;34m(\u001b[0m\u001b[0;34m)\u001b[0m\u001b[0;34m)\u001b[0m\u001b[0;34m)\u001b[0m\u001b[0;34m\u001b[0m\u001b[0;34m\u001b[0m\u001b[0m\n\u001b[1;32m     15\u001b[0m \u001b[0mprint\u001b[0m\u001b[0;34m(\u001b[0m\u001b[0;34m\"Accuracy: \"\u001b[0m\u001b[0;34m)\u001b[0m\u001b[0;34m\u001b[0m\u001b[0;34m\u001b[0m\u001b[0m\n\u001b[0;32m---> 16\u001b[0;31m \u001b[0mprint\u001b[0m\u001b[0;34m(\u001b[0m\u001b[0maccuracy_score\u001b[0m\u001b[0;34m(\u001b[0m\u001b[0mpredictc\u001b[0m\u001b[0;34m,\u001b[0m \u001b[0my_test\u001b[0m\u001b[0;34m.\u001b[0m\u001b[0mravel\u001b[0m\u001b[0;34m(\u001b[0m\u001b[0;34m)\u001b[0m\u001b[0;34m)\u001b[0m\u001b[0;34m)\u001b[0m\u001b[0;34m\u001b[0m\u001b[0;34m\u001b[0m\u001b[0m\n\u001b[0m",
            "\u001b[0;31mNameError\u001b[0m: name 'y_test' is not defined"
          ]
        }
      ]
    },
    {
      "cell_type": "code",
      "metadata": {
        "id": "cX8a64v6Wh99",
        "colab_type": "code",
        "colab": {
          "base_uri": "https://localhost:8080/",
          "height": 51
        },
        "outputId": "dc5fd665-34c6-41c4-e162-4391e44e82bc"
      },
      "source": [
        "print(\"Accuracy: \")\n",
        "print(accuracy_score(predictc, Y_test.ravel()))"
      ],
      "execution_count": null,
      "outputs": [
        {
          "output_type": "stream",
          "text": [
            "Accuracy: \n",
            "0.4718\n"
          ],
          "name": "stdout"
        }
      ]
    },
    {
      "cell_type": "code",
      "metadata": {
        "id": "q73Ggo1VTypj",
        "colab_type": "code",
        "colab": {
          "base_uri": "https://localhost:8080/",
          "height": 578
        },
        "outputId": "663e8362-cd62-416d-e2db-692cf8625275"
      },
      "source": [
        "dtf1 = DecisionTreeClassifier()\n",
        "print(\"Train model\")\n",
        "dtf1.fit(X_train, Y_train.ravel())\n",
        "print(\"Compute predictions\")\n",
        "predicted2 = dtf1.predict(X_test)\n",
        "#Evaluation\n",
        "print(\"Confusion matrix\")\n",
        "print(confusion_matrix(predicted2,Y_test.ravel()))\n",
        "print(\"Classification report\")\n",
        "print(classification_report(predicted2,Y_test.ravel()))\n",
        "print(\"Accuracy: \")\n",
        "print(accuracy_score(predicted2, Y_test.ravel()))"
      ],
      "execution_count": null,
      "outputs": [
        {
          "output_type": "stream",
          "text": [
            "Train model\n",
            "Compute predictions\n",
            "Confusion matrix\n",
            "[[338  74 104  71  56  54  39  72 148  91]\n",
            " [ 80 267  48  57  48  54  44  71 105 168]\n",
            " [ 78  71 218 128 157 104 150  92  52  60]\n",
            " [ 51  79  94 173  90 142 124  99  44  49]\n",
            " [ 75  50 134 107 226  92 135  92  52  54]\n",
            " [ 50  59 114 126 117 225  93 101  46  62]\n",
            " [ 37  57 108 136 113 110 280  64  27  51]\n",
            " [ 55  63  89  96 102  91  62 270  38  95]\n",
            " [157 112  42  46  34  74  28  62 386  97]\n",
            " [ 79 168  49  60  57  54  45  77 102 273]]\n",
            "Classification report\n",
            "              precision    recall  f1-score   support\n",
            "\n",
            "           0       0.34      0.32      0.33      1047\n",
            "           1       0.27      0.28      0.27       942\n",
            "           2       0.22      0.20      0.21      1110\n",
            "           3       0.17      0.18      0.18       945\n",
            "           4       0.23      0.22      0.22      1017\n",
            "           5       0.23      0.23      0.23       993\n",
            "           6       0.28      0.28      0.28       983\n",
            "           7       0.27      0.28      0.28       961\n",
            "           8       0.39      0.37      0.38      1038\n",
            "           9       0.27      0.28      0.28       964\n",
            "\n",
            "    accuracy                           0.27     10000\n",
            "   macro avg       0.27      0.27      0.27     10000\n",
            "weighted avg       0.27      0.27      0.27     10000\n",
            "\n",
            "Accuracy: \n",
            "0.2656\n"
          ],
          "name": "stdout"
        }
      ]
    },
    {
      "cell_type": "code",
      "metadata": {
        "id": "9BWhL660KD6s",
        "colab_type": "code",
        "colab": {
          "base_uri": "https://localhost:8080/",
          "height": 51
        },
        "outputId": "f79b30a7-dd8d-4ed5-eb4f-50766941510e"
      },
      "source": [
        "(x_train, y_train), (x_test, y_test) = mnist.load_data()"
      ],
      "execution_count": null,
      "outputs": [
        {
          "output_type": "stream",
          "text": [
            "Downloading data from https://storage.googleapis.com/tensorflow/tf-keras-datasets/mnist.npz\n",
            "11493376/11490434 [==============================] - 0s 0us/step\n"
          ],
          "name": "stdout"
        }
      ]
    },
    {
      "cell_type": "code",
      "metadata": {
        "id": "WINxYXGBKcSr",
        "colab_type": "code",
        "colab": {
          "base_uri": "https://localhost:8080/",
          "height": 34
        },
        "outputId": "c054a0e7-4a89-41c1-b346-a8ed808cb553"
      },
      "source": [
        "x_train.shape"
      ],
      "execution_count": null,
      "outputs": [
        {
          "output_type": "execute_result",
          "data": {
            "text/plain": [
              "(60000, 28, 28)"
            ]
          },
          "metadata": {
            "tags": []
          },
          "execution_count": 7
        }
      ]
    },
    {
      "cell_type": "code",
      "metadata": {
        "id": "XFcHf_99K2nf",
        "colab_type": "code",
        "colab": {
          "base_uri": "https://localhost:8080/",
          "height": 68
        },
        "outputId": "04bdd833-0ff4-46d8-cf9d-1139afdca154"
      },
      "source": [
        "print('x_train shape:', x_train.shape)\n",
        "print(x_train.shape[0], 'train samples')\n",
        "print(x_test.shape[0], 'test samples')"
      ],
      "execution_count": null,
      "outputs": [
        {
          "output_type": "stream",
          "text": [
            "x_train shape: (60000, 784)\n",
            "60000 train samples\n",
            "10000 test samples\n"
          ],
          "name": "stdout"
        }
      ]
    },
    {
      "cell_type": "code",
      "metadata": {
        "id": "zso0kfBvLjWc",
        "colab_type": "code",
        "colab": {
          "base_uri": "https://localhost:8080/",
          "height": 34
        },
        "outputId": "cf7ddf18-4062-4d96-a99c-a04d83fcfbf9"
      },
      "source": [
        "x_train = x_train.astype('float32')\n",
        "x_test = x_test.astype('float32')\n",
        "x_train.shape\n"
      ],
      "execution_count": null,
      "outputs": [
        {
          "output_type": "execute_result",
          "data": {
            "text/plain": [
              "(10000, 784)"
            ]
          },
          "metadata": {
            "tags": []
          },
          "execution_count": 15
        }
      ]
    },
    {
      "cell_type": "code",
      "metadata": {
        "id": "StWVcVjJL5lG",
        "colab_type": "code",
        "colab": {
          "base_uri": "https://localhost:8080/",
          "height": 34
        },
        "outputId": "58bc3ed3-c4c6-4f7e-8cd9-eb56a9cf0160"
      },
      "source": [
        "x_test.shape"
      ],
      "execution_count": null,
      "outputs": [
        {
          "output_type": "execute_result",
          "data": {
            "text/plain": [
              "(10000, 784)"
            ]
          },
          "metadata": {
            "tags": []
          },
          "execution_count": 16
        }
      ]
    },
    {
      "cell_type": "code",
      "metadata": {
        "id": "8Pm3P-vjLk8w",
        "colab_type": "code",
        "colab": {
          "base_uri": "https://localhost:8080/",
          "height": 34
        },
        "outputId": "536e16c6-9143-4b34-c31a-a53d6aef7935"
      },
      "source": [
        "x_train = x_train / 255.0\n",
        "x_test = x_test / 255.0\n",
        "x_train.shape"
      ],
      "execution_count": null,
      "outputs": [
        {
          "output_type": "execute_result",
          "data": {
            "text/plain": [
              "(60000, 784)"
            ]
          },
          "metadata": {
            "tags": []
          },
          "execution_count": 17
        }
      ]
    },
    {
      "cell_type": "code",
      "metadata": {
        "id": "9vPQE1pWLMpL",
        "colab_type": "code",
        "colab": {}
      },
      "source": [
        "x_train = x_train.flatten().reshape(x_train.shape[0], x_train.shape[1]*x_train.shape[2])\n",
        "x_test = x_test.flatten().reshape(x_test.shape[0],x_test.shape[1]*x_test.shape[2])"
      ],
      "execution_count": null,
      "outputs": []
    },
    {
      "cell_type": "code",
      "metadata": {
        "id": "M4EL2DAtK4bE",
        "colab_type": "code",
        "colab": {
          "base_uri": "https://localhost:8080/",
          "height": 34
        },
        "outputId": "6aab56f1-b1af-4f95-9ef2-548bd8c14b7e"
      },
      "source": [
        "x_train.shape\n"
      ],
      "execution_count": null,
      "outputs": [
        {
          "output_type": "execute_result",
          "data": {
            "text/plain": [
              "(10000, 784)"
            ]
          },
          "metadata": {
            "tags": []
          },
          "execution_count": 10
        }
      ]
    },
    {
      "cell_type": "code",
      "metadata": {
        "id": "nf46oHpRLGKL",
        "colab_type": "code",
        "colab": {
          "base_uri": "https://localhost:8080/",
          "height": 34
        },
        "outputId": "7e1249dc-ca9a-4bca-a855-fd565862f6dc"
      },
      "source": [
        "x_test.shape"
      ],
      "execution_count": null,
      "outputs": [
        {
          "output_type": "execute_result",
          "data": {
            "text/plain": [
              "(10000, 784)"
            ]
          },
          "metadata": {
            "tags": []
          },
          "execution_count": 11
        }
      ]
    },
    {
      "cell_type": "code",
      "metadata": {
        "id": "HNrKPnZhOCyI",
        "colab_type": "code",
        "colab": {
          "base_uri": "https://localhost:8080/",
          "height": 544
        },
        "outputId": "0286a055-88bd-47e4-f8d1-32f718abe0fd"
      },
      "source": [
        "clf = RandomForestClassifier()\n",
        "print(\"Train model\")\n",
        "clf.fit(x_train, y_train.ravel())\n",
        "print(\"Compute predictions\")\n",
        "predicted = clf.predict(x_test)\n",
        "#Evaluation\n",
        "print(\"Confusion matrix\")\n",
        "print(confusion_matrix(predicted,y_test.ravel()))\n",
        "print(\"Classification report\")\n",
        "print(classification_report(predicted,y_test.ravel()))"
      ],
      "execution_count": null,
      "outputs": [
        {
          "output_type": "stream",
          "text": [
            "Train model\n",
            "Compute predictions\n",
            "Confusion matrix\n",
            "[[ 971    0    7    1    1    5    5    1    5    7]\n",
            " [   0 1120    0    0    0    0    4    2    1    4]\n",
            " [   0    5  993   12    4    3    0   20    7    3]\n",
            " [   0    1    9  966    0   17    0    1    8    8]\n",
            " [   0    1    0    1  951    4    5    6    9   12]\n",
            " [   1    1    1    6    0  846    7    0    5    3]\n",
            " [   5    5    1    0    6    8  931    0    3    0]\n",
            " [   1    0    8    9    1    1    0  979    3    6]\n",
            " [   2    2   12   12    4    2    6    2  926    6]\n",
            " [   0    0    1    3   15    6    0   17    7  960]]\n",
            "Classification report\n",
            "              precision    recall  f1-score   support\n",
            "\n",
            "           0       0.99      0.97      0.98      1003\n",
            "           1       0.99      0.99      0.99      1131\n",
            "           2       0.96      0.95      0.96      1047\n",
            "           3       0.96      0.96      0.96      1010\n",
            "           4       0.97      0.96      0.96       989\n",
            "           5       0.95      0.97      0.96       870\n",
            "           6       0.97      0.97      0.97       959\n",
            "           7       0.95      0.97      0.96      1008\n",
            "           8       0.95      0.95      0.95       974\n",
            "           9       0.95      0.95      0.95      1009\n",
            "\n",
            "    accuracy                           0.96     10000\n",
            "   macro avg       0.96      0.96      0.96     10000\n",
            "weighted avg       0.96      0.96      0.96     10000\n",
            "\n"
          ],
          "name": "stdout"
        }
      ]
    },
    {
      "cell_type": "code",
      "metadata": {
        "id": "5VcZpdyFOLOh",
        "colab_type": "code",
        "colab": {
          "base_uri": "https://localhost:8080/",
          "height": 51
        },
        "outputId": "cba22416-0531-4e1c-f499-e5854e46a0d0"
      },
      "source": [
        "print(\"Accuracy: \")\n",
        "print(accuracy_score(predicted, y_test.ravel()))"
      ],
      "execution_count": null,
      "outputs": [
        {
          "output_type": "stream",
          "text": [
            "Accuracy: \n",
            "0.9643\n"
          ],
          "name": "stdout"
        }
      ]
    },
    {
      "cell_type": "code",
      "metadata": {
        "id": "L0LC9KULQTt3",
        "colab_type": "code",
        "colab": {
          "base_uri": "https://localhost:8080/",
          "height": 544
        },
        "outputId": "f51d2c30-3ae2-4d5d-9a53-eb204cccc930"
      },
      "source": [
        "dtf = DecisionTreeClassifier()\n",
        "print(\"Train model\")\n",
        "dtf.fit(x_train, y_train.ravel())\n",
        "print(\"Compute predictions\")\n",
        "predicted1 = dtf.predict(x_test)\n",
        "#Evaluation\n",
        "print(\"Confusion matrix\")\n",
        "print(confusion_matrix(predicted1,y_test.ravel()))\n",
        "print(\"Classification report\")\n",
        "print(classification_report(predicted1,y_test.ravel()))"
      ],
      "execution_count": null,
      "outputs": [
        {
          "output_type": "stream",
          "text": [
            "Train model\n",
            "Compute predictions\n",
            "Confusion matrix\n",
            "[[ 895    1   15    9    6   11   12    2   12    5]\n",
            " [   3 1096   13    5    3    8    7    6    9    7]\n",
            " [   6    5  875   27   15    9    5   29   25    7]\n",
            " [   8    5   36  833    7   45    3   11   36   14]\n",
            " [   6    2   17   15  846   23   20   13   29   39]\n",
            " [   8    2   13   45    7  718   17    4   33   15]\n",
            " [  19    6   11    4   19   15  866    0   15    1]\n",
            " [  10    0   17   17    9    8    1  909   13   41]\n",
            " [  13   14   28   33   19   38   24    9  779   22]\n",
            " [  12    4    7   22   51   17    3   45   23  858]]\n",
            "Classification report\n",
            "              precision    recall  f1-score   support\n",
            "\n",
            "           0       0.91      0.92      0.92       968\n",
            "           1       0.97      0.95      0.96      1157\n",
            "           2       0.85      0.87      0.86      1003\n",
            "           3       0.82      0.83      0.83       998\n",
            "           4       0.86      0.84      0.85      1010\n",
            "           5       0.80      0.83      0.82       862\n",
            "           6       0.90      0.91      0.90       956\n",
            "           7       0.88      0.89      0.89      1025\n",
            "           8       0.80      0.80      0.80       979\n",
            "           9       0.85      0.82      0.84      1042\n",
            "\n",
            "    accuracy                           0.87     10000\n",
            "   macro avg       0.87      0.87      0.87     10000\n",
            "weighted avg       0.87      0.87      0.87     10000\n",
            "\n"
          ],
          "name": "stdout"
        }
      ]
    },
    {
      "cell_type": "code",
      "metadata": {
        "id": "BPN_EUWNRsYJ",
        "colab_type": "code",
        "colab": {
          "base_uri": "https://localhost:8080/",
          "height": 51
        },
        "outputId": "a4dfd9a8-7280-496b-8806-107699f044a3"
      },
      "source": [
        "print(\"Accuracy: \")\n",
        "print(accuracy_score(predicted1, y_test.ravel()))"
      ],
      "execution_count": null,
      "outputs": [
        {
          "output_type": "stream",
          "text": [
            "Accuracy: \n",
            "0.8675\n"
          ],
          "name": "stdout"
        }
      ]
    },
    {
      "cell_type": "code",
      "metadata": {
        "id": "Mgess1XkCHS4",
        "colab_type": "code",
        "colab": {}
      },
      "source": [
        ""
      ],
      "execution_count": null,
      "outputs": []
    }
  ]
}